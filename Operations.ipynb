{
 "cells": [
  {
   "cell_type": "markdown",
   "metadata": {},
   "source": [
    "#### IBM Qiskit Notes - Single Systems"
   ]
  },
  {
   "cell_type": "code",
   "execution_count": 1,
   "metadata": {},
   "outputs": [],
   "source": [
    "# Qiskit libraries\n",
    "\n",
    "from qiskit import QuantumCircuit"
   ]
  },
  {
   "cell_type": "code",
   "execution_count": 2,
   "metadata": {},
   "outputs": [
    {
     "data": {
      "image/png": "[encoded data removed]",
      "text/plain": [
       "<Figure size 287.294x200.667 with 1 Axes>"
      ]
     },
     "execution_count": 2,
     "metadata": {},
     "output_type": "execute_result"
    }
   ],
   "source": [
    "# Create a new circuit with two qubits\n",
    "qc = QuantumCircuit(2)\n",
    " \n",
    "# Add a Hadamard gate to qubit 0\n",
    "qc.h(0)\n",
    " \n",
    "# Perform a controlled-X gate on qubit 1, controlled by qubit 0\n",
    "qc.cx(0, 1)\n",
    " \n",
    "# Return a drawing of the circuit using MatPlotLib (\"mpl\").\n",
    "# These guides are written by using Jupyter notebooks, which\n",
    "# display the output of the last line of each cell.\n",
    "# If you're running this in a script, use `print(qc.draw())` to\n",
    "# print a text drawing.\n",
    "qc.draw(\"mpl\")"
   ]
  },
  {
   "cell_type": "code",
   "execution_count": 3,
   "metadata": {},
   "outputs": [
    {
     "data": {
      "text/latex": [
       "$$\\frac{\\sqrt{2}}{2} |0\\rangle+\\frac{\\sqrt{2}}{2} |1\\rangle$$"
      ],
      "text/plain": [
       "<IPython.core.display.Latex object>"
      ]
     },
     "metadata": {},
     "output_type": "display_data"
    },
    {
     "data": {
      "text/plain": [
       "[ 0.33333333+0.66666667j,-0.66666667+0.j        ]"
      ]
     },
     "metadata": {},
     "output_type": "display_data"
    },
    {
     "data": {
      "text/plain": [
       "[0.33333333+0.j,0.66666667+0.j]"
      ]
     },
     "metadata": {},
     "output_type": "display_data"
    }
   ],
   "source": [
    "from qiskit.quantum_info import Statevector\n",
    "from numpy import sqrt\n",
    "\n",
    "u = Statevector([1/sqrt(2), 1/sqrt(2)])\n",
    "v = Statevector([(1+2.0j)/3, -2/3])\n",
    "w = Statevector([1/3, 2/3])\n",
    "\n",
    "display(u.draw(\"latex\"))\n",
    "display(v.draw(\"text\"))\n",
    "display(w.draw(\"text\"))"
   ]
  },
  {
   "cell_type": "code",
   "execution_count": 4,
   "metadata": {},
   "outputs": [
    {
     "data": {
      "text/plain": [
       "False"
      ]
     },
     "metadata": {},
     "output_type": "display_data"
    }
   ],
   "source": [
    "display(w.is_valid())"
   ]
  },
  {
   "cell_type": "code",
   "execution_count": 5,
   "metadata": {},
   "outputs": [
    {
     "data": {
      "text/plain": [
       "('1',\n",
       " Statevector([ 0.+0.j, -1.+0.j],\n",
       "             dims=(2,)))"
      ]
     },
     "execution_count": 5,
     "metadata": {},
     "output_type": "execute_result"
    }
   ],
   "source": [
    "v.measure()\n"
   ]
  },
  {
   "cell_type": "code",
   "execution_count": 6,
   "metadata": {},
   "outputs": [
    {
     "data": {
      "image/png": "[encoded data removed]",
      "text/plain": [
       "<Figure size 640x480 with 1 Axes>"
      ]
     },
     "execution_count": 6,
     "metadata": {},
     "output_type": "execute_result"
    }
   ],
   "source": [
    "from qiskit.visualization import plot_histogram\n",
    "statistics = v.sample_counts(1000) # 1000 measurements\n",
    "plot_histogram(statistics)"
   ]
  },
  {
   "cell_type": "code",
   "execution_count": 7,
   "metadata": {},
   "outputs": [
    {
     "data": {
      "text/latex": [
       "$$(\\frac{1}{3} + \\frac{2 i}{3}) |0\\rangle- \\frac{2}{3} |1\\rangle$$"
      ],
      "text/plain": [
       "<IPython.core.display.Latex object>"
      ]
     },
     "execution_count": 7,
     "metadata": {},
     "output_type": "execute_result"
    }
   ],
   "source": [
    "v = Statevector([(1+2.0j) / 3, -2/3])\n",
    "v.draw(\"latex\")"
   ]
  },
  {
   "cell_type": "code",
   "execution_count": 8,
   "metadata": {},
   "outputs": [
    {
     "data": {
      "text/plain": [
       "('0',\n",
       " Statevector([0.4472136+0.89442719j, 0.       +0.j        ],\n",
       "             dims=(2,)))"
      ]
     },
     "execution_count": 8,
     "metadata": {},
     "output_type": "execute_result"
    }
   ],
   "source": [
    "v.measure()"
   ]
  },
  {
   "cell_type": "code",
   "execution_count": 9,
   "metadata": {},
   "outputs": [
    {
     "data": {
      "text/plain": [
       "[0.+0.j,1.+0.j]"
      ]
     },
     "execution_count": 9,
     "metadata": {},
     "output_type": "execute_result"
    }
   ],
   "source": [
    "from qiskit.quantum_info import Operator\n",
    "\n",
    "X = Operator([[0, 1], [1, 0]])\n",
    "\n",
    "v = Statevector([1, 0])\n",
    "\n",
    "v = v.evolve(X)\n",
    "\n",
    "v.draw(\"text\")"
   ]
  },
  {
   "cell_type": "code",
   "execution_count": 10,
   "metadata": {},
   "outputs": [
    {
     "data": {
      "text/html": [
       "<pre style=\"word-wrap: normal;white-space: pre;background: #fff0;line-height: 1.1;font-family: &quot;Courier New&quot;,Courier,monospace\">   ┌───┐┌───┐┌───┐┌───┐┌───┐\n",
       "q: ┤ H ├┤ T ├┤ H ├┤ T ├┤ Z ├\n",
       "   └───┘└───┘└───┘└───┘└───┘</pre>"
      ],
      "text/plain": [
       "   ┌───┐┌───┐┌───┐┌───┐┌───┐\n",
       "q: ┤ H ├┤ T ├┤ H ├┤ T ├┤ Z ├\n",
       "   └───┘└───┘└───┘└───┘└───┘"
      ]
     },
     "execution_count": 10,
     "metadata": {},
     "output_type": "execute_result"
    }
   ],
   "source": [
    "from qiskit import QuantumCircuit\n",
    "\n",
    "circuit = QuantumCircuit(1)\n",
    "\n",
    "circuit.h(0)\n",
    "circuit.t(0)\n",
    "circuit.h(0)\n",
    "circuit.t(0)\n",
    "circuit.z(0)\n",
    "\n",
    "circuit.draw()"
   ]
  },
  {
   "cell_type": "markdown",
   "metadata": {},
   "source": [
    "#### Other Exercises"
   ]
  },
  {
   "cell_type": "code",
   "execution_count": 11,
   "metadata": {},
   "outputs": [],
   "source": [
    "# Qiskit and external libraries\n",
    "\n",
    "import numpy as np\n",
    "from qiskit.quantum_info import Statevector\n",
    "from qiskit.quantum_info.operators import Operator\n",
    "from qiskit.circuit.library import HGate, XGate, CXGate, TGate, PhaseGate\n",
    "\n",
    "from qiskit import *\n",
    "from qiskit import QuantumCircuit\n",
    "from qiskit.visualization import plot_histogram\n",
    "from qiskit_aer import AerSimulator\n",
    "\n",
    "import matplotlib.pyplot as plt"
   ]
  },
  {
   "cell_type": "code",
   "execution_count": 12,
   "metadata": {},
   "outputs": [
    {
     "name": "stdout",
     "output_type": "stream",
     "text": [
      "The resulting state vector after applying (H ⊗ X) to |Psi> is:\n",
      "[ 0.5+0.j -0.5+0.j  0.5+0.j  0.5+0.j]\n",
      "[[ 0.        +0.j  0.70710678+0.j  0.        +0.j  0.70710678+0.j]\n",
      " [ 0.70710678+0.j  0.        +0.j  0.70710678+0.j  0.        +0.j]\n",
      " [ 0.        +0.j  0.70710678+0.j -0.        +0.j -0.70710678+0.j]\n",
      " [ 0.70710678+0.j  0.        +0.j -0.70710678+0.j -0.        +0.j]]\n"
     ]
    }
   ],
   "source": [
    "# General operations for the state vector |Psi>\n",
    "\n",
    "# Initial state vector |Psi> as numpy array\n",
    "# State vector Psi = |01>, change state vector as desired\n",
    "\n",
    "#psi = np.array([1/4, 1/2, 1/np.sqrt(2), np.sqrt(3)/4], dtype=complex)  # |01> in the computational basis\n",
    "psi = np.array([0, 1/np.sqrt(2), -1/np.sqrt(2), 0], dtype=complex)\n",
    "\n",
    "# Quantum gates\n",
    "H = Operator(HGate()).data  # 2x2 matrix for Hadamard gate # Hadamard (H)\n",
    "X = Operator(XGate()).data  # 2x2 matrix for Pauli-X gate # Pauli-X (X)\n",
    "\n",
    "I = np.array([[1, 0], [0, 1]])\n",
    "\n",
    "# Tensor product\n",
    "H_tensor_X = np.kron(H, X)\n",
    "\n",
    "# (H ⊗ X) operator to state vector |Psi>\n",
    "resulting_state = np.dot(H_tensor_X, psi)\n",
    "\n",
    "# Results\n",
    "print(\"The resulting state vector after applying (H ⊗ X) to |Psi> is:\")\n",
    "print(resulting_state)\n",
    "print(H_tensor_X)\n",
    "\n",
    "#CNOT = Operator(CXGate())\n",
    "#P = Operator(PhaseGate(np.pi)) # Check Theta\n",
    "#print(CNOT)"
   ]
  },
  {
   "cell_type": "code",
   "execution_count": 14,
   "metadata": {},
   "outputs": [
    {
     "name": "stdout",
     "output_type": "stream",
     "text": [
      "Decomposed Toffoli Circuit:\n",
      "        ┌───┐┌───┐┌───┐┌─────┐┌───┐┌───┐┌───┐┌─────┐┌───┐ ░  ┌───┐ ┌───┐       »\n",
      "   q_0: ┤ Z ├┤ H ├┤ X ├┤ Tdg ├┤ X ├┤ T ├┤ X ├┤ Tdg ├┤ X ├─░──┤ T ├─┤ H ├───────»\n",
      "        ├───┤└───┘└─┬─┘└─────┘└─┬─┘└───┘└─┬─┘└─────┘└─┬─┘ ░ ┌┴───┴┐├───┤┌─────┐»\n",
      "   q_1: ┤ Z ├───────■───────────┼─────────■───────────┼───░─┤ Tdg ├┤ X ├┤ Tdg ├»\n",
      "        └───┘                   │                     │   ░ └─────┘└─┬─┘└─────┘»\n",
      "   q_2: ────────────────────────■─────────────────────■───░──────────■─────────»\n",
      "                                                          ░                    »\n",
      "meas: 3/═══════════════════════════════════════════════════════════════════════»\n",
      "                                                                               »\n",
      "«                   ░ ┌─┐      \n",
      "«   q_0: ───────────░─┤M├──────\n",
      "«        ┌───┐┌───┐ ░ └╥┘┌─┐   \n",
      "«   q_1: ┤ X ├┤ S ├─░──╫─┤M├───\n",
      "«        └─┬─┘├───┤ ░  ║ └╥┘┌─┐\n",
      "«   q_2: ──■──┤ T ├─░──╫──╫─┤M├\n",
      "«             └───┘ ░  ║  ║ └╥┘\n",
      "«meas: 3/══════════════╩══╩══╩═\n",
      "«                      0  1  2 \n",
      "Built-in Toffoli Circuit:\n",
      "        ┌───┐      ░ ┌─┐      \n",
      "   q_0: ┤ Z ├──■───░─┤M├──────\n",
      "        ├───┤  │   ░ └╥┘┌─┐   \n",
      "   q_1: ┤ Z ├──■───░──╫─┤M├───\n",
      "        └───┘┌─┴─┐ ░  ║ └╥┘┌─┐\n",
      "   q_2: ─────┤ X ├─░──╫──╫─┤M├\n",
      "             └───┘ ░  ║  ║ └╥┘\n",
      "meas: 3/══════════════╩══╩══╩═\n",
      "                      0  1  2 \n",
      "Measurement Results:\n"
     ]
    }
   ],
   "source": [
    "# Comparisson of built-in Toffoli and decomposed Toffoli\n",
    "# Exercise 4.23 from \"Introduction to Classical and Quantum Computing\", Thomas G. Wang (2022)\n",
    "\n",
    "# Decomposed Toffoli Circuit (Clifford+T decomposition)\n",
    "def decomposed_toffoli():\n",
    "    qc = QuantumCircuit(3)\n",
    "\n",
    "    qc.h(0)\n",
    "    qc.cx(1, 0)\n",
    "    qc.tdg(0)\n",
    "    qc.cx(2, 0)\n",
    "    qc.t(0)\n",
    "    qc.cx(1, 0)\n",
    "    qc.tdg(0)\n",
    "    qc.cx(2, 0)\n",
    "\n",
    "    qc.barrier()\n",
    "\n",
    "    qc.t(0)\n",
    "    qc.tdg(1)\n",
    "    qc.h(0)\n",
    "    qc.cx(2, 1)\n",
    "    qc.tdg(1)\n",
    "    qc.cx(2, 1)\n",
    "    qc.s(1)\n",
    "    qc.t(2)\n",
    "\n",
    "    return qc\n",
    "\n",
    "# Built-in Toffoli Circuit\n",
    "def built_in_toffoli():\n",
    "    qc = QuantumCircuit(3)\n",
    "    # Apply the Toffoli (CCX) gate\n",
    "    qc.ccx(0, 1, 2)\n",
    "\n",
    "    return qc\n",
    "\n",
    "\n",
    "# Comparison\n",
    "def compare_toffoli_circuits():\n",
    "    # Input state\n",
    "    input_state = QuantumCircuit(3)\n",
    "    input_state.z(0)  # Set qubit 0 to |1>\n",
    "    input_state.z(1)  # Set qubit 1 to |1>\n",
    "\n",
    "    # Copies of input state to use in both circuits\n",
    "    qc_decomposed = input_state.compose(decomposed_toffoli())\n",
    "    qc_builtin = input_state.compose(built_in_toffoli())\n",
    "\n",
    "    # Measurements of both circuits\n",
    "    qc_decomposed.measure_all()\n",
    "    qc_builtin.measure_all()\n",
    "\n",
    "    # Simulation\n",
    "    simulator = AerSimulator()\n",
    "\n",
    "    # Decomposed Toffoli\n",
    "    result_decomposed = simulator.run(qc_decomposed).result()\n",
    "    counts_decomposed = result_decomposed.get_counts()\n",
    "\n",
    "    # Built-in Toffoli\n",
    "    result_builtin = simulator.run(qc_builtin).result()\n",
    "    counts_builtin = result_builtin.get_counts()\n",
    "\n",
    "\n",
    "    # Plotss\n",
    "    print(\"Decomposed Toffoli Circuit:\")\n",
    "    print(qc_decomposed)\n",
    "    qc_decomposed.draw('mpl')\n",
    "    plt.show()\n",
    "\n",
    "    print(\"Built-in Toffoli Circuit:\")\n",
    "    print(qc_builtin)\n",
    "    qc_builtin.draw('mpl')\n",
    "    plt.show()\n",
    "\n",
    "    print(\"Measurement Results:\")\n",
    "    plot_histogram([counts_decomposed, counts_builtin],\n",
    "                   legend=['Decomposed Toffoli', 'Built-in Toffoli'])\n",
    "    plt.show()\n",
    "\n",
    "\n",
    "# Run comparison\n",
    "compare_toffoli_circuits()"
   ]
  }
 ],
 "metadata": {
  "kernelspec": {
   "display_name": "qiskit",
   "language": "python",
   "name": "python3"
  },
  "language_info": {
   "codemirror_mode": {
    "name": "ipython",
    "version": 3
   },
   "file_extension": ".py",
   "mimetype": "text/x-python",
   "name": "python",
   "nbconvert_exporter": "python",
   "pygments_lexer": "ipython3",
   "version": "3.12.2"
  }
 },
 "nbformat": 4,
 "nbformat_minor": 2
}
